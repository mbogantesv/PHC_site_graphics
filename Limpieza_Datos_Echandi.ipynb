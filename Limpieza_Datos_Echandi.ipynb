{
  "nbformat": 4,
  "nbformat_minor": 0,
  "metadata": {
    "colab": {
      "name": "Limpieza_Datos_Echandi.ipynb",
      "provenance": [],
      "collapsed_sections": [],
      "authorship_tag": "ABX9TyPtAzdnhp8r1sRcp5vSjj8Y",
      "include_colab_link": true
    },
    "kernelspec": {
      "name": "python3",
      "display_name": "Python 3"
    }
  },
  "cells": [
    {
      "cell_type": "markdown",
      "metadata": {
        "id": "view-in-github",
        "colab_type": "text"
      },
      "source": [
        "<a href=\"https://colab.research.google.com/github/mbogantesv/PHC_site_graphics/blob/master/Limpieza_Datos_Echandi.ipynb\" target=\"_parent\"><img src=\"https://colab.research.google.com/assets/colab-badge.svg\" alt=\"Open In Colab\"/></a>"
      ]
    },
    {
      "cell_type": "code",
      "metadata": {
        "id": "BYxhgu_Xhh-x",
        "colab_type": "code",
        "colab": {}
      },
      "source": [
        "import pandas as pd\n",
        "import numpy as np\n",
        "from google.colab import files\n"
      ],
      "execution_count": 0,
      "outputs": []
    },
    {
      "cell_type": "code",
      "metadata": {
        "id": "NdKzo8bZ1awx",
        "colab_type": "code",
        "colab": {}
      },
      "source": [
        "uploaded = files.upload()\n",
        "\n",
        "for fn in uploaded.keys():\n",
        "  print('User uploaded file \"{name}\" with length {length} bytes'.format(\n",
        "      name=fn, length=len(uploaded[fn])))"
      ],
      "execution_count": 0,
      "outputs": []
    },
    {
      "cell_type": "code",
      "metadata": {
        "id": "Lnj4d_cAy7gH",
        "colab_type": "code",
        "outputId": "65722faf-77b8-44e7-cb76-c7cfe266e04d",
        "colab": {
          "base_uri": "https://localhost:8080/",
          "height": 391
        }
      },
      "source": [
        "raw_db=pd.read_excel(list(uploaded.keys())[0], skiprows = [0], sheet_name= \"Output Final\")\n",
        "\n",
        "raw_db = raw_db.dropna(thresh=25)\n",
        "for i in range(len(raw_db[\"Test\"])):\n",
        "  raw_db[\"Test\"][i] = str(raw_db[\"Test\"][i])[:-1]\n",
        "\n",
        "raw_db = raw_db.drop_duplicates(subset=[\"MRF Number\"])\n",
        "raw_db = raw_db.dropna(axis = 0, subset=[\"Result (Comma Separated)\"])\n",
        "raw_db = raw_db.reset_index()\n",
        "\n",
        "def cmpa2(small,large):\n",
        "  lis=[]\n",
        "  resultw = []\n",
        "  for i in range(len(large)):\n",
        "    lis.append(large[i] in small)\n",
        "  for j in lis:\n",
        "    if j == True:\n",
        "      resultw.append(\"Positivo\")\n",
        "    else:\n",
        "      resultw.append(\"Negativo\")\n",
        "  return resultw\n",
        "\n",
        "keep_columns = ['MRF Number', 'Country', 'Indication', 'Tissue Type',\n",
        "       'Block Number(s)', 'Initials', 'MRF Date (collection)', 'Pick-up Date',\n",
        "       'Result Date', 'Institution', 'Treatment Doctor']\n",
        "\n",
        "db_columns = keep_columns + [\"Test\"] + [\"Result\"]\n",
        "\n",
        "contador = 0\n",
        "for i in raw_db[\"Test\"]:\n",
        "  contador=contador + i.count(\",\")\n",
        "clean_db = pd.DataFrame([[0] * len(db_columns)] * contador,columns = db_columns)\n",
        "\n",
        "df_Positives = raw_db.iloc[:,21:38]\n",
        "df_Tests = raw_db.iloc[:,40:61]\n",
        "\n",
        "count =0\n",
        "for i in range(len(raw_db)):\n",
        "  done_tests = raw_db[\"Test\"][i].split(\",\")\n",
        "  a= list((df_Positives.iloc[i] == 1).to_numpy().nonzero()[0]) \n",
        "  b= list((df_Tests.iloc[i] == 1).to_numpy().nonzero()[0])\n",
        "  compare = cmpa2(a,b)\n",
        "  for j in range(len(done_tests)):\n",
        "    for k in keep_columns:\n",
        "      clean_db[k][count]=raw_db[k][i]\n",
        "    clean_db[\"Test\"][count] = done_tests[j]\n",
        "    try:\n",
        "      clean_db[\"Result\"][count]= str(compare[j])\n",
        "    except IndexError:\n",
        "      clean_db[\"Result\"][count] = \"ERROR\"\n",
        "    count = count+1\n",
        "\n",
        "clean_db.to_csv(\"Datos_limpios.csv\", index = False)"
      ],
      "execution_count": 7,
      "outputs": [
        {
          "output_type": "stream",
          "text": [
            "/usr/local/lib/python3.6/dist-packages/ipykernel_launcher.py:5: SettingWithCopyWarning: \n",
            "A value is trying to be set on a copy of a slice from a DataFrame\n",
            "\n",
            "See the caveats in the documentation: http://pandas.pydata.org/pandas-docs/stable/user_guide/indexing.html#returning-a-view-versus-a-copy\n",
            "  \"\"\"\n",
            "/usr/local/lib/python3.6/dist-packages/ipykernel_launcher.py:51: SettingWithCopyWarning: \n",
            "A value is trying to be set on a copy of a slice from a DataFrame\n",
            "\n",
            "See the caveats in the documentation: http://pandas.pydata.org/pandas-docs/stable/user_guide/indexing.html#returning-a-view-versus-a-copy\n",
            "/usr/local/lib/python3.6/dist-packages/pandas/core/indexing.py:205: SettingWithCopyWarning: \n",
            "A value is trying to be set on a copy of a slice from a DataFrame\n",
            "\n",
            "See the caveats in the documentation: http://pandas.pydata.org/pandas-docs/stable/user_guide/indexing.html#returning-a-view-versus-a-copy\n",
            "  self._setitem_with_indexer(indexer, value)\n",
            "/usr/local/lib/python3.6/dist-packages/ipykernel_launcher.py:52: SettingWithCopyWarning: \n",
            "A value is trying to be set on a copy of a slice from a DataFrame\n",
            "\n",
            "See the caveats in the documentation: http://pandas.pydata.org/pandas-docs/stable/user_guide/indexing.html#returning-a-view-versus-a-copy\n",
            "/usr/local/lib/python3.6/dist-packages/ipykernel_launcher.py:54: SettingWithCopyWarning: \n",
            "A value is trying to be set on a copy of a slice from a DataFrame\n",
            "\n",
            "See the caveats in the documentation: http://pandas.pydata.org/pandas-docs/stable/user_guide/indexing.html#returning-a-view-versus-a-copy\n"
          ],
          "name": "stderr"
        }
      ]
    },
    {
      "cell_type": "code",
      "metadata": {
        "id": "PLlyNAh-sNlp",
        "colab_type": "code",
        "colab": {}
      },
      "source": [
        "files.download(\"Datos_limpios.csv\")"
      ],
      "execution_count": 0,
      "outputs": []
    }
  ]
}